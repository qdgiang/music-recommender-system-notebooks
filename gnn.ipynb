{
 "cells": [
  {
   "cell_type": "code",
   "execution_count": 1,
   "metadata": {},
   "outputs": [],
   "source": [
    "import pandas as pd"
   ]
  },
  {
   "cell_type": "code",
   "execution_count": 2,
   "metadata": {},
   "outputs": [],
   "source": [
    "triples = pd.read_csv('data/triplets_file.csv')\n",
    "me = pd.read_csv('data/me.csv')\n",
    "# add me to triples\n",
    "triples = pd.concat([me, triples], ignore_index=True)\n",
    "\n",
    "# use first 500000 rows\n",
    "triples = triples.head(500000)\n"
   ]
  },
  {
   "cell_type": "code",
   "execution_count": 3,
   "metadata": {},
   "outputs": [],
   "source": [
    "# turn triples into a graph\n",
    "import networkx as nx\n",
    "G = nx.from_pandas_edgelist(triples, source='user_id', target='song_id', edge_attr='listen_count', create_using=nx.DiGraph())\n"
   ]
  },
  {
   "cell_type": "code",
   "execution_count": 4,
   "metadata": {},
   "outputs": [
    {
     "name": "stdout",
     "output_type": "stream",
     "text": [
      "Number of nodes:  29193\n",
      "Number of edges:  500000\n",
      "Number of edges with weight > 1:  217556\n",
      "Number of edges with weight > 10:  24236\n",
      "Number of edges with weight > 100:  228\n",
      "Number of edges with weight > 1000:  0\n"
     ]
    }
   ],
   "source": [
    "# show number of nodes and edges and edge weights\n",
    "print('Number of nodes: ', G.number_of_nodes())\n",
    "print('Number of edges: ', G.number_of_edges())\n",
    "print('Number of edges with weight > 1: ', len([e for e in G.edges(data=True) if e[2]['listen_count'] > 1]))\n",
    "print('Number of edges with weight > 10: ', len([e for e in G.edges(data=True) if e[2]['listen_count'] > 10]))\n",
    "print('Number of edges with weight > 100: ', len([e for e in G.edges(data=True) if e[2]['listen_count'] > 100]))\n",
    "print('Number of edges with weight > 1000: ', len([e for e in G.edges(data=True) if e[2]['listen_count'] > 1000]))\n",
    "\n"
   ]
  },
  {
   "cell_type": "code",
   "execution_count": 5,
   "metadata": {},
   "outputs": [
    {
     "data": {
      "text/plain": [
       "Data(edge_index=[2, 500000], listen_count=[500000], num_nodes=29193, edge_attr=[500000], x=[29193, 1], y=[500000, 1])"
      ]
     },
     "execution_count": 5,
     "metadata": {},
     "output_type": "execute_result"
    }
   ],
   "source": [
    "# create pytorch geometric graph from networkx graph\n",
    "import torch\n",
    "from torch_geometric.data import Data\n",
    "from torch_geometric.utils import from_networkx\n",
    "\n",
    "data = from_networkx(G)\n",
    "\n",
    "# add listen counts as edge weights\n",
    "data.edge_attr = torch.tensor([e[2]['listen_count'] for e in G.edges(data=True)], dtype=torch.float)\n",
    "\n",
    "# link prediction task for bipartite graph, no node features.\n",
    "# use edge weights as edge features\n",
    "data.x = torch.zeros((data.num_nodes, 1), dtype=torch.float)\n",
    "data.y = torch.zeros((data.num_edges, 1), dtype=torch.float)\n",
    "\n",
    "data"
   ]
  },
  {
   "cell_type": "code",
   "execution_count": 6,
   "metadata": {},
   "outputs": [],
   "source": [
    "# train test mask\n",
    "import numpy as np\n",
    "from sklearn.model_selection import train_test_split\n",
    "\n",
    "# split into train and test\n",
    "train_mask, test_mask = train_test_split(np.arange(data.num_edges), test_size=0.2, random_state=42)\n",
    "\n",
    "# split train into train and validation\n",
    "train_mask, val_mask = train_test_split(train_mask, test_size=0.2, random_state=42)\n",
    "\n",
    "# create masks\n",
    "data.train_mask = torch.zeros(data.num_edges, dtype=torch.bool)\n",
    "data.train_mask[train_mask] = True\n",
    "\n",
    "data.val_mask = torch.zeros(data.num_edges, dtype=torch.bool)\n",
    "data.val_mask[val_mask] = True\n",
    "\n",
    "data.test_mask = torch.zeros(data.num_edges, dtype=torch.bool)\n",
    "data.test_mask[test_mask] = True\n",
    "\n"
   ]
  },
  {
   "cell_type": "code",
   "execution_count": 7,
   "metadata": {},
   "outputs": [
    {
     "data": {
      "text/plain": [
       "1"
      ]
     },
     "execution_count": 7,
     "metadata": {},
     "output_type": "execute_result"
    }
   ],
   "source": [
    "data.num_node_features"
   ]
  },
  {
   "cell_type": "code",
   "execution_count": 8,
   "metadata": {},
   "outputs": [],
   "source": [
    "# model for link prediction\n",
    "import torch\n",
    "import torch.nn.functional as F\n",
    "from torch_geometric.nn import GCNConv, DeepGraphInfomax\n",
    "\n",
    "class GCN(torch.nn.Module):\n",
    "    def __init__(self, dim_in, dim_h, dim_out):\n",
    "        super().__init__()\n",
    "        self.gcn1 = GCNConv(dim_in, dim_h)\n",
    "        self.gcn2 = GCNConv(dim_h, dim_out)\n",
    "        self.optimizer = torch.optim.Adam(self.parameters(),\n",
    "                                          lr=0.01,\n",
    "                                          weight_decay=5e-4)\n",
    "\n",
    "    def forward(self, x, edge_index):\n",
    "        #h = F.dropout(x, p=0.5, training=self.training)\n",
    "        h = self.gcn1(x, edge_index)\n",
    "        h = torch.relu(h)\n",
    "        h = F.dropout(h, p=0.5, training=self.training)\n",
    "\n",
    "        h = self.gcn2(h, edge_index)\n",
    "        return h, F.log_softmax(h, dim=1)\n"
   ]
  },
  {
   "cell_type": "code",
   "execution_count": 9,
   "metadata": {},
   "outputs": [],
   "source": [
    "def accuracy(pred_y, y):\n",
    "    return ((pred_y == y).sum() / len(y)).item()\n",
    "\n",
    "\n",
    "def train(model, data):\n",
    "    criterion = torch.nn.CrossEntropyLoss()\n",
    "    optimizer = model.optimizer\n",
    "    epochs = 200\n",
    "    result = None\n",
    "    model.train()\n",
    "    for epoch in range(epochs + 1):\n",
    "        # Training\n",
    "        optimizer.zero_grad()\n",
    "\n",
    "        result, out = model(data.x, data.edge_index)\n",
    "        loss = criterion(out[data.train_mask], data.y[data.train_mask])\n",
    "        acc = accuracy(out[data.train_mask].argmax(dim=1), data.y[data.train_mask])\n",
    "        loss.backward()\n",
    "        optimizer.step()\n",
    "\n",
    "        # Validation\n",
    "        val_loss = criterion(out[data.val_mask], data.y[data.val_mask])\n",
    "        val_acc = accuracy(out[data.val_mask].argmax(dim=1), data.y[data.val_mask])\n",
    "\n",
    "        if epoch % 10 == 0:\n",
    "            print(f'Epoch {epoch:>3} | Train Loss: {loss:.3f} | Train Acc: '\n",
    "                  f'{acc * 100:>6.2f}% | Val Loss: {val_loss:.2f} | '\n",
    "                  f'Val Acc: {val_acc * 100:.2f}%')\n",
    "\n",
    "    return result\n",
    "\n",
    "\n",
    "def test(model, data):\n",
    "    \"\"\"Evaluate the model on test set and print the accuracy score.\"\"\"\n",
    "    model.eval()\n",
    "    _, out = model(data.x, data.edge_index)\n",
    "    acc = accuracy(out.argmax(dim=1)[data.test_mask], data.y[data.test_mask])\n",
    "    return acc"
   ]
  },
  {
   "cell_type": "code",
   "execution_count": 10,
   "metadata": {},
   "outputs": [
    {
     "name": "stdout",
     "output_type": "stream",
     "text": [
      "GCN(\n",
      "  (gcn1): GCNConv(1, 16)\n",
      "  (gcn2): GCNConv(16, 1)\n",
      ")\n"
     ]
    },
    {
     "ename": "IndexError",
     "evalue": "The shape of the mask [500000] at index 0 does not match the shape of the indexed tensor [29193] at index 0",
     "output_type": "error",
     "traceback": [
      "\u001b[0;31m---------------------------------------------------------------------------\u001b[0m",
      "\u001b[0;31mIndexError\u001b[0m                                Traceback (most recent call last)",
      "Cell \u001b[0;32mIn [10], line 3\u001b[0m\n\u001b[1;32m      1\u001b[0m lame \u001b[39m=\u001b[39m GCN(\u001b[39m1\u001b[39m, \u001b[39m16\u001b[39m, \u001b[39m1\u001b[39m)\n\u001b[1;32m      2\u001b[0m \u001b[39mprint\u001b[39m(lame)\n\u001b[0;32m----> 3\u001b[0m lame_acc \u001b[39m=\u001b[39m test(lame, data)\n\u001b[1;32m      4\u001b[0m \u001b[39mprint\u001b[39m(\u001b[39mf\u001b[39m\u001b[39m'\u001b[39m\u001b[39mNo training GCN test accuracy: \u001b[39m\u001b[39m{\u001b[39;00mlame_acc\u001b[39m*\u001b[39m\u001b[39m100\u001b[39m\u001b[39m:\u001b[39;00m\u001b[39m.2f\u001b[39m\u001b[39m}\u001b[39;00m\u001b[39m%\u001b[39m\u001b[39m\\n\u001b[39;00m\u001b[39m'\u001b[39m)\n\u001b[1;32m      5\u001b[0m lame_res \u001b[39m=\u001b[39m train(lame, data)\n",
      "Cell \u001b[0;32mIn [9], line 37\u001b[0m, in \u001b[0;36mtest\u001b[0;34m(model, data)\u001b[0m\n\u001b[1;32m     35\u001b[0m model\u001b[39m.\u001b[39meval()\n\u001b[1;32m     36\u001b[0m _, out \u001b[39m=\u001b[39m model(data\u001b[39m.\u001b[39mx, data\u001b[39m.\u001b[39medge_index)\n\u001b[0;32m---> 37\u001b[0m acc \u001b[39m=\u001b[39m accuracy(out\u001b[39m.\u001b[39;49margmax(dim\u001b[39m=\u001b[39;49m\u001b[39m1\u001b[39;49m)[data\u001b[39m.\u001b[39;49mtest_mask], data\u001b[39m.\u001b[39my[data\u001b[39m.\u001b[39mtest_mask])\n\u001b[1;32m     38\u001b[0m \u001b[39mreturn\u001b[39;00m acc\n",
      "\u001b[0;31mIndexError\u001b[0m: The shape of the mask [500000] at index 0 does not match the shape of the indexed tensor [29193] at index 0"
     ]
    }
   ],
   "source": [
    "\n",
    "\n",
    "lame = GCN(1, 16, 1)\n",
    "print(lame)\n",
    "lame_acc = test(lame, data)\n",
    "print(f'No training GCN test accuracy: {lame_acc*100:.2f}%\\n')\n",
    "lame_res = train(lame, data)\n",
    "\n",
    "#lame_acc = test(lame, data)\n",
    "print(f'GCN test accuracy: {lame_acc*100:.2f}%\\n')\n",
    "\n"
   ]
  },
  {
   "cell_type": "code",
   "execution_count": 11,
   "metadata": {},
   "outputs": [
    {
     "data": {
      "text/plain": [
       "torch.Size([2, 500000])"
      ]
     },
     "execution_count": 11,
     "metadata": {},
     "output_type": "execute_result"
    }
   ],
   "source": [
    "data.edge_index.shape"
   ]
  },
  {
   "cell_type": "code",
   "execution_count": null,
   "metadata": {},
   "outputs": [],
   "source": []
  }
 ],
 "metadata": {
  "kernelspec": {
   "display_name": "Python 3.9.15 ('music')",
   "language": "python",
   "name": "python3"
  },
  "language_info": {
   "codemirror_mode": {
    "name": "ipython",
    "version": 3
   },
   "file_extension": ".py",
   "mimetype": "text/x-python",
   "name": "python",
   "nbconvert_exporter": "python",
   "pygments_lexer": "ipython3",
   "version": "3.9.15"
  },
  "orig_nbformat": 4,
  "vscode": {
   "interpreter": {
    "hash": "a76da3d42c26bd055caba1014d0ce5d71744f3609527d00f8fedf99a7823aa64"
   }
  }
 },
 "nbformat": 4,
 "nbformat_minor": 2
}
